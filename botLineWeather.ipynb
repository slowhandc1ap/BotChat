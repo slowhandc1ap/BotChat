{
  "nbformat": 4,
  "nbformat_minor": 0,
  "metadata": {
    "colab": {
      "provenance": [],
      "authorship_tag": "ABX9TyMeDiLEEpG3/OM3mHfd/5rg",
      "include_colab_link": true
    },
    "kernelspec": {
      "name": "python3",
      "display_name": "Python 3"
    },
    "language_info": {
      "name": "python"
    }
  },
  "cells": [
    {
      "cell_type": "markdown",
      "metadata": {
        "id": "view-in-github",
        "colab_type": "text"
      },
      "source": [
        "<a href=\"https://colab.research.google.com/github/slowhandc1ap/BotChat/blob/main/botLineWeather.ipynb\" target=\"_parent\"><img src=\"https://colab.research.google.com/assets/colab-badge.svg\" alt=\"Open In Colab\"/></a>"
      ]
    },
    {
      "cell_type": "code",
      "execution_count": null,
      "metadata": {
        "id": "xzGkeMjNiB9j"
      },
      "outputs": [],
      "source": [
        "pip install beautifulsoup4\n",
        "pip install songline\n",
        "#bot weather predict\n",
        "import requests\n",
        "import json\n",
        "from songline import Sendline\n",
        "\n",
        "token = 'HdQn9YvzUEangpPjepOuzFZTWN7b3ysYRYrYOuvHUht'\n",
        "\n",
        "api_key = '30d4741c779ba94c470ca1f63045390a'\n",
        "\n",
        "user_input1 = input(\"enter city\")\n",
        "user_input2 =input(\"enter city\")\n",
        "\n",
        "\n",
        "weather_data = requests.get(\n",
        "    f\"https://api.openweathermap.org/data/2.5/weather?q={user_input1}&units=imperial&APPID={api_key}\")\n",
        "\n",
        "if weather_data.json()['cod'] == '404':\n",
        "    print(\"No City Found\")\n",
        "else:\n",
        "    weather = weather_data.json()['weather'][0]['main']\n",
        "    temp = round(weather_data.json()['main']['temp'])\n",
        "    print (temp)\n",
        "    temp = (temp - 32) // 1.8\n",
        "    print (temp)\n",
        "    print(f\"The weather in {user_input1} is: {weather}\")\n",
        "    print(f\"The temperature in {user_input1} is: {temp}ºF\")\n",
        "\n",
        "    messenger = songline.Sendline(token)\n",
        "    messenger.sendtext(f\"อากาศใน  {user_input1} เท่ากับ {temp} องศา\")\n",
        "\n",
        "    weather_data = requests.get(\n",
        "    f\"https://api.openweathermap.org/data/2.5/weather?q={user_input2}&units=imperial&APPID={api_key}\")\n",
        "\n",
        "if weather_data.json()['cod'] == '404':\n",
        "    print(\"No City Found\")\n",
        "else:\n",
        "    weather = weather_data.json()['weather'][0]['main']\n",
        "    temp = round(weather_data.json()['main']['temp'])\n",
        "    print (temp)\n",
        "    temp = (temp - 32) // 1.8\n",
        "    print (temp)\n",
        "    print(f\"The weather in {user_input2} is: {weather}\")\n",
        "    print(f\"The temperature in {user_input2} is: {temp}ºF\")\n",
        "\n",
        "    messenger = songline.Sendline(token)\n",
        "    messenger.sendtext(f\"อากาศใน  {user_input2} เท่ากับ {temp} องศา\")"
      ]
    }
  ]
}